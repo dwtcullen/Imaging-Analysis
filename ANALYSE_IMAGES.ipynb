{
 "cells": [
  {
   "cell_type": "code",
   "execution_count": null,
   "id": "7b8c2ae7-bb59-4d1f-85ce-722135217cf0",
   "metadata": {
    "tags": []
   },
   "outputs": [
    {
     "name": "stdout",
     "output_type": "stream",
     "text": [
      "ETA today 11:25pm|00h:22m/11h:12m|3.24%|29/864|A04 field 02|Measured Cyto/Nuc ratio!                                                                                                                \r"
     ]
    },
    {
     "name": "stderr",
     "output_type": "stream",
     "text": [
      "/sw/auto/rocky8c/epyc3_l40/software/Anaconda3/2023.09-0/lib/python3.11/site-packages/numpy/core/fromnumeric.py:3464: RuntimeWarning: Mean of empty slice.\n",
      "  return _methods._mean(a, axis=axis, dtype=dtype,\n",
      "/sw/auto/rocky8c/epyc3_l40/software/Anaconda3/2023.09-0/lib/python3.11/site-packages/numpy/core/_methods.py:192: RuntimeWarning: invalid value encountered in scalar divide\n",
      "  ret = ret.dtype.type(ret / rcount)\n"
     ]
    },
    {
     "name": "stdout",
     "output_type": "stream",
     "text": [
      "ETA tomorrow 12:19am|06h:58m/05h:29m|55.90%|484/864|E06 field 07|Measured Cyto/Nuc ratio!                                                                                                              \r"
     ]
    }
   ],
   "source": [
    "import main\n",
    "main.process_images(\n",
    "    \n",
    "    #Folders\n",
    "    root_directory = 'DATA/12/12A',   #Everything after Scratch/[your username]/\n",
    "    image_folder = 'raw',          #Sub-folder containing the raw images\n",
    "    output_df_name = 'df_12A',\n",
    "    \n",
    "    #Processing Settings\n",
    "    CPU_or_GPU = 'GPU',          #Options: 'CPU', 'GPU'\n",
    "    microscope_name = 'Vader',   #Options: 'Vader', 'Maul', 'Deltavision'\n",
    "    user = 'uqdcull4',           #Tell the program the username you use for Bunya\n",
    "    model_name = 'cellpose7',    #Options: 'cellpose7', 'nuclei'\n",
    "    \n",
    "    #Kinase Translocation Reporter\n",
    "    KTR_channel = 'Green',       #Options: 'Green', 'Orange'\n",
    "    has_KTR = True,             #Does the dataset have cells containing Kinase Translocation Reporters?\n",
    "    \n",
    "    #Image Output\n",
    "    output_masks = False,        #Do you want to output `masked arrays to use in a different program?\n",
    "    output_image_stacks = False,\n",
    "    \n",
    "    #Data Output\n",
    "    output_df = True,\n",
    "    crop = False,\n",
    "    calculate_pearson = False\n",
    "    \n",
    ")"
   ]
  },
  {
   "cell_type": "code",
   "execution_count": null,
   "id": "9d7a22f8-2aed-4523-a5b0-5d2de407c71d",
   "metadata": {},
   "outputs": [],
   "source": [
    "import main\n",
    "main.process_images(\n",
    "    \n",
    "    #Folders\n",
    "    root_directory = 'DATA/11/11B',   #Everything after Scratch/[your username]/\n",
    "    image_folder = 'raw_017',          #Sub-folder containing the raw images\n",
    "    output_df_name = 'df_11B_017',\n",
    "    \n",
    "    #Processing Settings\n",
    "    CPU_or_GPU = 'GPU',          #Options: 'CPU', 'GPU'\n",
    "    microscope_name = 'Vader',   #Options: 'Vader', 'Maul', 'Deltavision'\n",
    "    user = 'uqdcull4',           #Tell the program the username you use for Bunya\n",
    "    model_name = 'cellpose7',    #Options: 'cellpose7', 'nuclei'\n",
    "    \n",
    "    #Kinase Translocation Reporter\n",
    "    KTR_channel = 'Green',       #Options: 'Green', 'Orange'\n",
    "    has_KTR = True,             #Does the dataset have cells containing Kinase Translocation Reporters?\n",
    "    \n",
    "    #Image Output\n",
    "    output_masks = False,        #Do you want to output `masked arrays to use in a different program?\n",
    "    output_image_stacks = False,\n",
    "    \n",
    "    #Data Output\n",
    "    output_df = True,\n",
    "    crop = False,\n",
    "    calculate_pearson = False\n",
    "    \n",
    ")"
   ]
  },
  {
   "cell_type": "code",
   "execution_count": null,
   "id": "2ab68259-72dc-4de0-a3fb-6dcc1d84d7f2",
   "metadata": {
    "tags": []
   },
   "outputs": [],
   "source": [
    "import main\n",
    "main.process_images(\n",
    "    \n",
    "    #Folders\n",
    "    root_directory = 'DATA/11/11B',   #Everything after Scratch/[your username]/\n",
    "    image_folder = 'raw_242',          #Sub-folder containing the raw images\n",
    "    output_df_name = 'df_11B_242',\n",
    "    \n",
    "    #Processing Settings\n",
    "    CPU_or_GPU = 'GPU',          #Options: 'CPU', 'GPU'\n",
    "    microscope_name = 'Vader',   #Options: 'Vader', 'Maul', 'Deltavision'\n",
    "    user = 'uqdcull4',           #Tell the program the username you use for Bunya\n",
    "    model_name = 'cellpose7',    #Options: 'cellpose7', 'nuclei'\n",
    "    \n",
    "    #Kinase Translocation Reporter\n",
    "    KTR_channel = 'Orange',       #Options: 'Green', 'Orange'\n",
    "    has_KTR = True,             #Does the dataset have cells containing Kinase Translocation Reporters?\n",
    "    \n",
    "    #Image Output\n",
    "    output_masks = False,        #Do you want to output `masked arrays to use in a different program?\n",
    "    output_image_stacks = False,\n",
    "    \n",
    "    #Data Output\n",
    "    output_df = True,\n",
    "    crop = False,\n",
    "    calculate_pearson = False\n",
    "    \n",
    ")"
   ]
  },
  {
   "cell_type": "code",
   "execution_count": null,
   "id": "dab9ffd9-bfff-41e1-8347-db9d9ba3ea81",
   "metadata": {},
   "outputs": [],
   "source": []
  }
 ],
 "metadata": {
  "kernelspec": {
   "display_name": "Python 3 (ipykernel)",
   "language": "python",
   "name": "python3"
  },
  "language_info": {
   "codemirror_mode": {
    "name": "ipython",
    "version": 3
   },
   "file_extension": ".py",
   "mimetype": "text/x-python",
   "name": "python",
   "nbconvert_exporter": "python",
   "pygments_lexer": "ipython3",
   "version": "3.11.5"
  }
 },
 "nbformat": 4,
 "nbformat_minor": 5
}
